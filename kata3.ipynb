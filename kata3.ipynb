{
 "cells": [
  {
   "cell_type": "markdown",
   "metadata": {},
   "source": [
    "#### Ejercicio 1.  \n",
    "Escribir una logica condicional que imprima una advertencia si un asteroide se acerca a la tierra demasiado rapido  \n",
    "la velocidad del asteroide varia dependiendo de lo cerca que este del sol, y cualquier velocidad superior a 25 kilometros merece una advertencia  "
   ]
  },
  {
   "cell_type": "code",
   "execution_count": 2,
   "metadata": {},
   "outputs": [
    {
     "name": "stdout",
     "output_type": "stream",
     "text": [
      "el asteoride chocara con la tierra\n"
     ]
    }
   ],
   "source": [
    "asteroide = 49\n",
    "\n",
    "if asteroide > 25:\n",
    "    print(\"el asteoride chocara con la tierra\")\n",
    "else:\n",
    "    print(\"no pasara nada, tranquilo\")"
   ]
  },
  {
   "cell_type": "markdown",
   "metadata": {},
   "source": [
    "#### Ejercicio 2.  \n",
    "Si un asteroide entra a la atmosfra de la tierra a una velocidad mayor o igual a 20km/s, a veces produce un rayo de los que se puede ver desde la tierra. Escribe la logica condicional que usa declaraciones if, else if, else para aletar a las personas que deben buscar un asteroide en el cielo"
   ]
  },
  {
   "cell_type": "code",
   "execution_count": 3,
   "metadata": {},
   "outputs": [
    {
     "name": "stdout",
     "output_type": "stream",
     "text": [
      "es solo el cielo despejado\n"
     ]
    }
   ],
   "source": [
    "asteroide = 19\n",
    "if asteroide == 20:\n",
    "    print(\"Hay un asteoride en el cielo :O \")\n",
    "elif asteroide > 20:\n",
    "    print(\"Hay un asteoride en el cielo\")\n",
    "else:\n",
    "    print(\"es solo el cielo despejado\")\n"
   ]
  },
  {
   "cell_type": "markdown",
   "metadata": {},
   "source": [
    "### Ejercicio 3.  \n",
    "usando toda esta informacion escribe un programa que emita la advertencia o informacion correcta a la gente de la tierra, segun la velocidad y el tamaño de un asteoride."
   ]
  },
  {
   "cell_type": "code",
   "execution_count": 4,
   "metadata": {},
   "outputs": [
    {
     "name": "stdout",
     "output_type": "stream",
     "text": [
      "No hay nada en el cielo\n"
     ]
    }
   ],
   "source": [
    "asteroideTamanio = 40\n",
    "asteroideVelocidad = 25\n",
    "\n",
    "if asteroideVelocidad > 25 and asteroideTamanio > 25:\n",
    "    print(\"Un asteoride se acerca a la tierras !! \")\n",
    "elif asteroideVelocidad == 20:\n",
    "    print(\"Mira el cielo hay un asteoride\")\n",
    "elif asteroideTamanio < 25: \n",
    "    print(\"No hay nada en el cielo\")\n",
    "else:\n",
    "    print(\"No hay nada en el cielo\")"
   ]
  }
 ],
 "metadata": {
  "interpreter": {
   "hash": "7f8d545a41187c5ebe220f062ae2876624d580078d24e095a075e177e93664bd"
  },
  "kernelspec": {
   "display_name": "Python 3.10.2 64-bit",
   "language": "python",
   "name": "python3"
  },
  "language_info": {
   "codemirror_mode": {
    "name": "ipython",
    "version": 3
   },
   "file_extension": ".py",
   "mimetype": "text/x-python",
   "name": "python",
   "nbconvert_exporter": "python",
   "pygments_lexer": "ipython3",
   "version": "3.10.2"
  },
  "orig_nbformat": 4
 },
 "nbformat": 4,
 "nbformat_minor": 2
}
