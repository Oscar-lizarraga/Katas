{
 "cells": [
  {
   "cell_type": "markdown",
   "metadata": {},
   "source": [
    "### Kata6  \n",
    "#### Oscar lizarraga"
   ]
  },
  {
   "cell_type": "markdown",
   "metadata": {},
   "source": [
    "### Ejercicio 1.  \n",
    "Usar listas para almacenar nombres de planetas\n",
    "Las listas permiten almacenar varios valores en una sola variable. Comenzarás un proyecto sobre información planetaria creando una lista de planetas."
   ]
  },
  {
   "cell_type": "code",
   "execution_count": 13,
   "metadata": {},
   "outputs": [
    {
     "name": "stdout",
     "output_type": "stream",
     "text": [
      "numero de planetas 8\n",
      "pluton es el ultimo planeta\n"
     ]
    }
   ],
   "source": [
    "planets = [\"marte\", \"venus\", \"tierra\", \"neptuno\", \"jupiter\", \"urano\", \"mercurio\", \"saturno\"]\n",
    "print(\"numero de planetas \" + str(len(planets)))\n",
    "\n",
    "#agregamos pluton\n",
    "planets.append(\"pluton\")\n",
    "\n",
    "print((planets[8]) + \" es el ultimo planeta\")\n",
    "\n"
   ]
  },
  {
   "cell_type": "markdown",
   "metadata": {},
   "source": [
    "### Ejercicio 2  "
   ]
  },
  {
   "cell_type": "markdown",
   "metadata": {},
   "source": [
    "A continuación, agrega el código para solicitar al usuario un nombre. Debido a que las cadenas distinguen entre mayúsculas y minúsculas en Python, pídale al usuario que use una letra mayúscula para comenzar el nombre del planeta."
   ]
  },
  {
   "cell_type": "code",
   "execution_count": 19,
   "metadata": {},
   "outputs": [
    {
     "name": "stdout",
     "output_type": "stream",
     "text": [
      "Los planetas mas cercanos al sol queMarteson\n",
      "['Mercurio', 'Venus', 'Tierra']\n",
      "Los planetas mas alejados al sol queMarteson\n",
      "['Jupiter', 'Saturno', 'Urano']\n"
     ]
    }
   ],
   "source": [
    "planets = [\"Mercurio\", \"Venus\", \"Tierra\", \"Marte\", \"Jupiter\", \"Saturno\", \"Urano\", \"Neptuno\"]\n",
    "\n",
    "#pedimos el planeta\n",
    "planeta = input(\"Ingrese el planeta *con mayuscula al inicio* \")\n",
    "\n",
    "#buscamos el planeta ingresado en la lista\n",
    "planetaIndice = planets.index(planeta)\n",
    "\n",
    "#planetas mas cercanos a los que el usuario ingreso\n",
    "print(\"Los planetas mas cercanos al sol que\" + planeta + \"son\")\n",
    "print(planets[0:planetaIndice])\n",
    "\n",
    "#planetas mas alejados del sol \n",
    "print(\"Los planetas mas alejados al sol que\" + planeta + \"son\")\n",
    "print(planets[planetaIndice + 1 : -1])"
   ]
  }
 ],
 "metadata": {
  "interpreter": {
   "hash": "7f8d545a41187c5ebe220f062ae2876624d580078d24e095a075e177e93664bd"
  },
  "kernelspec": {
   "display_name": "Python 3.10.2 64-bit",
   "language": "python",
   "name": "python3"
  },
  "language_info": {
   "codemirror_mode": {
    "name": "ipython",
    "version": 3
   },
   "file_extension": ".py",
   "mimetype": "text/x-python",
   "name": "python",
   "nbconvert_exporter": "python",
   "pygments_lexer": "ipython3",
   "version": "3.10.2"
  },
  "orig_nbformat": 4
 },
 "nbformat": 4,
 "nbformat_minor": 2
}
