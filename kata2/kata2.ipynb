{
 "cells": [
  {
   "cell_type": "code",
   "execution_count": null,
   "metadata": {},
   "outputs": [],
   "source": []
  },
  {
   "cell_type": "markdown",
   "metadata": {},
   "source": [
    "Para crear los directorios del entorno virtual usamos el comando siguiente  \n",
    "``` py -m env env ```  \n",
    "donde py indica el compilador de python y env el directorio atual, ese puede ser cambiado por la ruta de nuestro archivo\n"
   ]
  },
  {
   "cell_type": "markdown",
   "metadata": {},
   "source": [
    "Para activar el entorno virtual usamos el siguiente comando  \n",
    "```env\\scripts\\activate.bat```\n"
   ]
  }
 ],
 "metadata": {
  "interpreter": {
   "hash": "7f8d545a41187c5ebe220f062ae2876624d580078d24e095a075e177e93664bd"
  },
  "kernelspec": {
   "display_name": "Python 3.10.2 64-bit",
   "language": "python",
   "name": "python3"
  },
  "language_info": {
   "codemirror_mode": {
    "name": "ipython",
    "version": 3
   },
   "file_extension": ".py",
   "mimetype": "text/x-python",
   "name": "python",
   "nbconvert_exporter": "python",
   "pygments_lexer": "ipython3",
   "version": "3.10.2"
  },
  "orig_nbformat": 4
 },
 "nbformat": 4,
 "nbformat_minor": 2
}
