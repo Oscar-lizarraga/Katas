{
 "cells": [
  {
   "cell_type": "markdown",
   "metadata": {},
   "source": [
    "### Kata 9\n",
    "#### oscar lizarraga \n"
   ]
  },
  {
   "cell_type": "markdown",
   "metadata": {},
   "source": [
    "### Ejercicio 1.  \n",
    "Trabajar con argumentos en funciones\n",
    "Los argumentos requeridos en las funciones se utilizan cuando las funciones necesitan que esos argumentos funcionen correctamente. En este ejercicio, construirás un informe de combustible que requiere información de varias ubicaciones de combustible en todo el cohete.\n",
    "\n",
    "TIP Dedica unos minutos para tratar de encontrar una solución. Luego desplázate hacia abajo hasta la parte inferior para ver si has logrado compilar el programa de acuerdo con las especificaciones\n",
    "\n",
    "Comienza por crear una función que necesite tres lecturas de combustible y devuelva un informe:"
   ]
  },
  {
   "cell_type": "code",
   "execution_count": 12,
   "metadata": {},
   "outputs": [
    {
     "ename": "ValueError",
     "evalue": "invalid literal for int() with base 10: ''",
     "output_type": "error",
     "traceback": [
      "\u001b[1;31m---------------------------------------------------------------------------\u001b[0m",
      "\u001b[1;31mValueError\u001b[0m                                Traceback (most recent call last)",
      "\u001b[1;32mUntitled-1.ipynb Cell 3'\u001b[0m in \u001b[0;36m<module>\u001b[1;34m\u001b[0m\n\u001b[0;32m      <a href='vscode-notebook-cell:Untitled-1.ipynb?jupyter-notebook#ch0000003untitled?line=0'>1</a>\u001b[0m \u001b[39m##funcion para leer los 3 tanques\u001b[39;00m\n\u001b[1;32m----> <a href='vscode-notebook-cell:Untitled-1.ipynb?jupyter-notebook#ch0000003untitled?line=1'>2</a>\u001b[0m primerTanque \u001b[39m=\u001b[39m \u001b[39mint\u001b[39;49m(\u001b[39minput\u001b[39;49m(\u001b[39m\"\u001b[39;49m\u001b[39mIngrese el porcentaje del primer tanque\u001b[39;49m\u001b[39m\"\u001b[39;49m))\n\u001b[0;32m      <a href='vscode-notebook-cell:Untitled-1.ipynb?jupyter-notebook#ch0000003untitled?line=2'>3</a>\u001b[0m segundoTanque \u001b[39m=\u001b[39m \u001b[39mint\u001b[39m(\u001b[39minput\u001b[39m(\u001b[39m\"\u001b[39m\u001b[39mIngrese el porcentaje del segundo tanque\u001b[39m\u001b[39m\"\u001b[39m))\n\u001b[0;32m      <a href='vscode-notebook-cell:Untitled-1.ipynb?jupyter-notebook#ch0000003untitled?line=3'>4</a>\u001b[0m tercerTanque \u001b[39m=\u001b[39m \u001b[39mint\u001b[39m(\u001b[39minput\u001b[39m(\u001b[39m\"\u001b[39m\u001b[39mIngrese el porcentaje del tercer tanque\u001b[39m\u001b[39m\"\u001b[39m))\n",
      "\u001b[1;31mValueError\u001b[0m: invalid literal for int() with base 10: ''"
     ]
    }
   ],
   "source": [
    "##funcion para leer los 3 tanques\n",
    "primerTanque = int(input(\"Ingrese el porcentaje del primer tanque\"))\n",
    "segundoTanque = int(input(\"Ingrese el porcentaje del segundo tanque\"))\n",
    "tercerTanque = int(input(\"Ingrese el porcentaje del tercer tanque\"))\n",
    "\n",
    "def reporte(primerTanque, segundoTanque, tercerTanque):\n",
    "    print(\"promedio de los tanques: \" + str((primerTanque + segundoTanque + tercerTanque) / 3))\n",
    "    print(\"primer tanque tiene: \" + str(primerTanque))\n",
    "    print(\"segundo tanque tiene: \" + str(segundoTanque))\n",
    "    print(\"tercer tanque tiene: \" + str(tercerTanque))\n",
    "\n",
    "###llamamos a la funcion\n",
    "reporte(primerTanque, segundoTanque, tercerTanque)\n",
    "\n",
    "#funcion promedio\n",
    "def promedio(datos):\n",
    "    return sum(datos) / len(datos)\n",
    "\n",
    "# Test the averaging function with a list of integers:\n",
    "promedio([80, 85, 81]) \n",
    "\n",
    "#funcion actualizada\n",
    "def reporte(primerTanque, segundoTanque, tercerTanque):\n",
    "    print(\"\\npromedio de los tanques: \" + str(promedio([primerTanque,segundoTanque,tercerTanque])))\n",
    "    print(\"primer tanque tiene: \" + str(primerTanque))\n",
    "    print(\"segundo tanque tiene: \" + str(segundoTanque))\n",
    "    print(\"tercer tanque tiene: \" + str(tercerTanque))\n",
    "\n",
    "reporte(primerTanque, segundoTanque, tercerTanque)\n",
    "\n"
   ]
  },
  {
   "cell_type": "markdown",
   "metadata": {},
   "source": [
    "### Ejercicio 2.\n",
    "Ejercicio : Trabajar con argumentos de palabras clave en funciones\n",
    "En este ejercicio, construirás un informe de cohete que requiere varias piezas de información, como el tiempo hasta el destino, el combustible a la izquierda y el nombre del destino. Comienza por crear una función que creará un informe preciso de la misión:"
   ]
  },
  {
   "cell_type": "code",
   "execution_count": 13,
   "metadata": {},
   "outputs": [
    {
     "name": "stdout",
     "output_type": "stream",
     "text": [
      "\n",
      "    Destino de la mision Marte\n",
      "    Tiempo en vuelo o en orbita 84 minutos\n",
      "    Total de combustible 7205307 litros\n",
      "    \n"
     ]
    }
   ],
   "source": [
    "#informe de la mision\n",
    "def reporte(tiempoDeLanzamiento, tiempo, destino, conmbustibleExterno, conbustiblePrincipal):\n",
    "    return f\"\"\"\n",
    "    Destino de la mision {destino}\n",
    "    Tiempo en vuelo o en orbita {tiempoDeLanzamiento + tiempo} minutos\n",
    "    Total de combustible {conmbustibleExterno + conbustiblePrincipal} litros\n",
    "    \"\"\"\n",
    "\n",
    "print(reporte(24, 60, \"Marte\", 6546821, 658486))"
   ]
  },
  {
   "cell_type": "markdown",
   "metadata": {},
   "source": [
    "La función es problemática porque no se puede adaptar para minutos adicionales o tanques adicionales de combustible. Hazlo más flexible permitiendo cualquier número de pasos basados en el tiempo y cualquier número de tanques. En lugar de usar *args y **kwargs, aprovecha el hecho de que puedes usar cualquier nombre que desees. Asegurate que la función sea más legible mediante el uso de nombres de variables que están asociados con las entradas, como *minutes y **fuel_reservoirs:"
   ]
  },
  {
   "cell_type": "code",
   "execution_count": 14,
   "metadata": {},
   "outputs": [
    {
     "name": "stdout",
     "output_type": "stream",
     "text": [
      "\n",
      "    Mision hacia marte\n",
      "    Total del viaje: 135 minutos\n",
      "    Total del combustible: 6612667\n",
      "    \n"
     ]
    }
   ],
   "source": [
    "def reporteMision(destination, *minutos, **reservas):\n",
    "    return f\"\"\"\n",
    "    Mision hacia {destination}\n",
    "    Total del viaje: {sum(minutos)} minutos\n",
    "    Total del combustible: {sum(reservas.values())}\n",
    "    \"\"\"\n",
    "\n",
    "print(reporteMision(\"marte\", 24, 60, 51, main=6546821, external=65846))"
   ]
  },
  {
   "cell_type": "markdown",
   "metadata": {},
   "source": [
    "Debido a que el combustible que queda en los tanques es específico de cada tanque, actualiza la función para usar el nombre de cada tanque en el informe:\n",
    "\n"
   ]
  },
  {
   "cell_type": "code",
   "execution_count": 2,
   "metadata": {},
   "outputs": [
    {
     "name": "stdout",
     "output_type": "stream",
     "text": [
      "\n",
      "    Mision hacia Luna\n",
      "    tiempo de viaje: 100 minutos\n",
      "    total del combustible: 13093642\n",
      "    main tanque: 6546821 galones\n",
      "external tanque: 6546821 galones\n",
      "\n"
     ]
    }
   ],
   "source": [
    "# Escribe tu nueva función\n",
    "\n",
    "def reporteMision(destino, *minutos, **reservas):\n",
    "    main_report = f\"\"\"\n",
    "    Mision hacia {destino}\n",
    "    tiempo de viaje: {sum(minutos)} minutos\n",
    "    total del combustible: {sum(reservas.values())}\n",
    "    \"\"\"\n",
    "    for tanque, galones in reservas.items():\n",
    "        main_report += f\"{tanque} tanque: {galones} galones\\n\"\n",
    "    return main_report\n",
    "\n",
    "print(reporteMision(\"Luna\", 20, 65, 15, main=6546821, external=6546821))"
   ]
  }
 ],
 "metadata": {
  "interpreter": {
   "hash": "7f8d545a41187c5ebe220f062ae2876624d580078d24e095a075e177e93664bd"
  },
  "kernelspec": {
   "display_name": "Python 3.10.2 64-bit",
   "language": "python",
   "name": "python3"
  },
  "language_info": {
   "codemirror_mode": {
    "name": "ipython",
    "version": 3
   },
   "file_extension": ".py",
   "mimetype": "text/x-python",
   "name": "python",
   "nbconvert_exporter": "python",
   "pygments_lexer": "ipython3",
   "version": "3.10.2"
  },
  "orig_nbformat": 4
 },
 "nbformat": 4,
 "nbformat_minor": 2
}
